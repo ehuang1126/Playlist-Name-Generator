{
 "cells": [
  {
   "cell_type": "markdown",
   "id": "c72661c6-4ab1-40ad-b97c-63e581909aa8",
   "metadata": {},
   "source": [
    "# Playlist Name Generator\n",
    "## Evan Huang, Koa Lee\n",
    "\n",
    "This program utilizes Co:Here's natural language processing to analyze the lyrics of all songs in a Spotify playlist in order to create a fitting name. "
   ]
  },
  {
   "cell_type": "code",
   "execution_count": null,
   "id": "5b0b6314-77f9-425f-840f-583be62d8e84",
   "metadata": {},
   "outputs": [],
   "source": [
    "import playlist_fetcher\n",
    "import name_generator\n",
    "import lyric_finder"
   ]
  },
  {
   "cell_type": "markdown",
   "id": "b4162374-3707-42ab-bda1-5365d9a51151",
   "metadata": {},
   "source": [
    "Assuming you have added your Spotify Developer ID/Secret and Co:Here API keys to the FILE, you can utilize the below function to create your playlist name. Just input the URL to your Spotify playlist. There are some parameters for the summarization model you may also tweak if you are unsatisfied with your playlist title. "
   ]
  },
  {
   "cell_type": "code",
   "execution_count": 1,
   "id": "dc6f4310-ca4d-4680-8232-d63478cbf5c6",
   "metadata": {},
   "outputs": [],
   "source": [
    "def get_playlist_name(playlist_url, model='large', max_tokens=10, \n",
    "temperature=0.8, num_generations=1, k=0, p=1):\n",
    "    name_generator.get_summary(playlist_fetcher.get_all_lyrics(playlist_url), model=model, \n",
    "                               max_tokens=max_tokens, temperature=temperature, \n",
    "                               num_generations=num_generations, k=k, p=p)"
   ]
  },
  {
   "cell_type": "code",
   "execution_count": null,
   "id": "2f2f6340-4f73-49e0-8c5a-398a1652150e",
   "metadata": {},
   "outputs": [],
   "source": [
    "get_playlist_name(https://open.spotify.com/playlist/37i9dQZF1DXcBWIGoYBM5M?si=674ba9566e0e44c8)"
   ]
  },
  {
   "cell_type": "markdown",
   "id": "90ce1b13-11ad-4ec3-9104-8b728c2add7a",
   "metadata": {},
   "source": [
    "If you are not a Spotify user, you can use the below function to get playlist names from a dictionary of songs and corresponding artists. You will not need to put your Spotify Key in the FILE then. The keys should be the song titles and the values should be the artists. Please make sure you type the names in exactly as they show up on the Genius website; be careful about spelling, capitalization, etc."
   ]
  },
  {
   "cell_type": "code",
   "execution_count": null,
   "id": "81c0b06e-c15f-4bcc-adac-6283fd168acb",
   "metadata": {},
   "outputs": [],
   "source": [
    "def get_playlist_name_from_songs(songs, model='large', max_tokens=10, \n",
    "temperature=0.8, num_generations=1, k=0, p=1): \n",
    "    lyrics = '';\n",
    "    for title, artist in enumerate(songs): \n",
    "        lyrics += lyric_finder.scrape_lyrics(artist, title) + '\\n'\n",
    "    return name_generator.get_summary(lyrics, model='large', max_tokens=10, \n",
    "temperature=0.8, num_generations=1, k=0, p=1)"
   ]
  },
  {
   "cell_type": "code",
   "execution_count": null,
   "id": "5cddaf38-3fff-474e-ac77-6c61392715b8",
   "metadata": {},
   "outputs": [],
   "source": [
    "get_playlist_name({\n",
    "    'Slow Dancing in the Dark','Joji'\n",
    "    'Butter','BTS'\n",
    "    'American Pie','Don McLean'\n",
    "})"
   ]
  }
 ],
 "metadata": {
  "kernelspec": {
   "display_name": "Python 3 (ipykernel)",
   "language": "python",
   "name": "python3"
  },
  "language_info": {
   "codemirror_mode": {
    "name": "ipython",
    "version": 3
   },
   "file_extension": ".py",
   "mimetype": "text/x-python",
   "name": "python",
   "nbconvert_exporter": "python",
   "pygments_lexer": "ipython3",
   "version": "3.9.7"
  }
 },
 "nbformat": 4,
 "nbformat_minor": 5
}
